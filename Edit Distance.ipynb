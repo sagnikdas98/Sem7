{
 "cells": [
  {
   "cell_type": "code",
   "execution_count": 1,
   "metadata": {},
   "outputs": [
    {
     "name": "stdout",
     "output_type": "stream",
     "text": [
      "Correct Word: tumor\n",
      "Human Input: tutor\n"
     ]
    }
   ],
   "source": [
    "import numpy as np\n",
    "a = input(\"Correct Word: \")\n",
    "b = input(\"Human Input: \")\n",
    "mat = np.zeros((len(b)+1, len(a)+1 ))"
   ]
  },
  {
   "cell_type": "code",
   "execution_count": 4,
   "metadata": {},
   "outputs": [
    {
     "name": "stdout",
     "output_type": "stream",
     "text": [
      "[[0. 1. 1. 1. 1.]\n",
      " [1. 0. 1. 2. 2.]\n",
      " [0. 1. 1. 2. 3.]\n",
      " [1. 1. 2. 1. 2.]\n",
      " [1. 2. 2. 2. 1.]]\n",
      "Min Edit Dis:  1.0\n"
     ]
    }
   ],
   "source": [
    "for i in range (1,len(b)+1):\n",
    "    for j in range (1,len(a)+1):\n",
    "        cost = 1\n",
    "        if(b[i-1] == a[j-1]): cost = 0\n",
    "        mini = min(mat[i-1][j],mat[i-1][j-1], mat[i][j-1])\n",
    "        mat[i][j] = int(mini + cost)\n",
    "print(mat[1:,1:])\n",
    "print(\"Min Edit Dis: \", mat[-1][-1])"
   ]
  },
  {
   "cell_type": "code",
   "execution_count": null,
   "metadata": {},
   "outputs": [],
   "source": []
  }
 ],
 "metadata": {
  "kernelspec": {
   "display_name": "Python 3",
   "language": "python",
   "name": "python3"
  },
  "language_info": {
   "codemirror_mode": {
    "name": "ipython",
    "version": 3
   },
   "file_extension": ".py",
   "mimetype": "text/x-python",
   "name": "python",
   "nbconvert_exporter": "python",
   "pygments_lexer": "ipython3",
   "version": "3.6.8"
  }
 },
 "nbformat": 4,
 "nbformat_minor": 2
}
