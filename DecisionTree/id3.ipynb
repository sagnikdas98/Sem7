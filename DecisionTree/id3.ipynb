{
 "cells": [
  {
   "cell_type": "code",
   "execution_count": 145,
   "metadata": {},
   "outputs": [],
   "source": [
    "import math\n",
    "import csv\n",
    "import numpy as np"
   ]
  },
  {
   "cell_type": "code",
   "execution_count": 146,
   "metadata": {},
   "outputs": [],
   "source": [
    "a = []\n",
    "with open('tennis.csv','rt')as f:\n",
    "    data = csv.reader(f)\n",
    "    for i in data:\n",
    "        a.append(i[1:])\n",
    "a= np.array(a)        "
   ]
  },
  {
   "cell_type": "code",
   "execution_count": 176,
   "metadata": {},
   "outputs": [],
   "source": [
    "class node:\n",
    "    \n",
    "    header = a[0,0:-1]\n",
    "    dataset = a[1:,:-1]\n",
    "    result = a[1:,-1]\n",
    "    \n",
    "    def __init__(self, data, attr):\n",
    "        \n",
    "        self.data = data\n",
    "        self.attr = attr\n",
    "        self.name = None\n",
    "        self.gain = None\n",
    "        self.child = []\n",
    "        self.childval = {}\n",
    "        self.decision = self.checkLeaf()\n",
    "        print(self.decision)\n",
    "        if self.decision == 'Undecidable':\n",
    "            self.processData()\n",
    "         \n",
    "    def checkLeaf(self):\n",
    "        \n",
    "        s = set([node.result[i] for i in self.data ])\n",
    "        if(len(s) != 1): return 'Undecidable'\n",
    "        else: return s.pop()\n",
    "    \n",
    "    def entropy(self, y, n):\n",
    "        \n",
    "        if y == 0 or n == 0: return 0\n",
    "        tn = y+n\n",
    "        return -(y*math.log(y/tn,2) + n*math.log(n/tn,2))/tn     \n",
    "    \n",
    "    def entropyAttr(self):\n",
    "        \n",
    "        m, least = 0, 1\n",
    "        for at in self.attr:\n",
    "            dicval ={}\n",
    "            totent = 0\n",
    "            for da in self.data:\n",
    "                if node.dataset[da,at] not in dicval:\n",
    "                    dicval[node.dataset[da,at]] = {'Yes':0, 'No':0}\n",
    "                dicval[node.dataset[da,at]][node.result[da]] += 1\n",
    "\n",
    "            for key in dicval.keys():\n",
    "                y = dicval[key]['Yes']\n",
    "                n = dicval[key]['No']\n",
    "                totent += ((y+n)/(len(self.data)))*self.entropy(y,n)   \n",
    "            if(totent < least): m, least = at, totent\n",
    "        return (m,least)\n",
    "                    \n",
    "    \n",
    "    def processData(self):\n",
    "        m, least = self.entropyAttr()\n",
    "        self.name = node.header[m]\n",
    "        self.gain = least\n",
    "  \n",
    "        for da in self.data:\n",
    "            if node.dataset[da,m] not in self.childval:\n",
    "                self.childval[node.dataset[da,m]] = []\n",
    "            self.childval[node.dataset[da,m]].append(da)\n",
    "              \n",
    "        for key in self.childval.keys():\n",
    "            self.child.append(node(self.childval[key],np.setdiff1d(self.attr,[m])))     "
   ]
  },
  {
   "cell_type": "code",
   "execution_count": 177,
   "metadata": {},
   "outputs": [
    {
     "name": "stdout",
     "output_type": "stream",
     "text": [
      "Undecidable\n",
      "[0, 1, 2, 3]\n",
      "outlook 0.6935361388961918\n",
      "{'Sunny': [0, 1, 7, 8, 10], 'Overcast': [2, 6, 11, 12], 'Rain': [3, 4, 5, 9, 13]}\n",
      "Undecidable\n",
      "[1 2 3]\n",
      "humidity 0.0\n",
      "{'High': [0, 1, 7], 'Normal': [8, 10]}\n",
      "No\n",
      "Yes\n",
      "Yes\n",
      "Undecidable\n",
      "[1 2 3]\n",
      "wind 0.0\n",
      "{'Weak': [3, 4, 9], 'Strong': [5, 13]}\n",
      "Yes\n",
      "No\n"
     ]
    }
   ],
   "source": [
    "root_data = [i for i in range(len(node.dataset))]\n",
    "root_attr = [i for i in range(len(node.header))]\n",
    "root = node(root_data, root_attr)"
   ]
  },
  {
   "cell_type": "code",
   "execution_count": null,
   "metadata": {},
   "outputs": [],
   "source": [
    "\n",
    "            \n",
    "            \n",
    "            \n",
    "        \n",
    "            \n",
    "            \n",
    "        \n",
    "        \n",
    "        \n",
    "    "
   ]
  },
  {
   "cell_type": "code",
   "execution_count": null,
   "metadata": {},
   "outputs": [],
   "source": []
  },
  {
   "cell_type": "code",
   "execution_count": null,
   "metadata": {},
   "outputs": [],
   "source": []
  }
 ],
 "metadata": {
  "kernelspec": {
   "display_name": "Python 3",
   "language": "python",
   "name": "python3"
  },
  "language_info": {
   "codemirror_mode": {
    "name": "ipython",
    "version": 3
   },
   "file_extension": ".py",
   "mimetype": "text/x-python",
   "name": "python",
   "nbconvert_exporter": "python",
   "pygments_lexer": "ipython3",
   "version": "3.6.8"
  }
 },
 "nbformat": 4,
 "nbformat_minor": 2
}
